{
 "cells": [
  {
   "cell_type": "markdown",
   "metadata": {},
   "source": [
    "<center>\n",
    "  \n",
    "#### Audio Processing and Indexing HomeWork I\n",
    "September 12, 2024\n",
    "    Jiameng Ma\n",
    "</center>\n"
   ]
  },
  {
   "cell_type": "markdown",
   "metadata": {},
   "source": [
    "&emsp;The paper most interested me is 《Human-AI Music Creation: Understanding the Perceptions and Experiences of Music Creators for Ethical and Productive Collaboration 》 which wrote by Michele Newman, Lidia Morris, Jin Ha Lee and be excerpted from Proceedings of the 24th International Society for Music Information Retrieval Conference, Milan, Italy, November 5-9, 2023."
   ]
  },
  {
   "cell_type": "markdown",
   "metadata": {},
   "source": [
    "&emsp;This paper explores the perceptions of music creators using AI tools, and challenges they encounter. The research include understanding how AI is integrated into composition, how the creators' specific contexts influence AI usage, and what design implications can improve AI tools for creative collaboration.\n",
    "<br/>\n",
    "&emsp;It based on six studies: a jazz composer, a film and video game composer, a sound artist, a DJ, an interactive media composer, and an electroacoustic composer. These creators brought varied experiences and opinions about AI into the study. While some welcomed AI for its ability to handle repetitive tasks, others expressed reluctance to use AI to make creative decisions, emphasizing the importance of human intent and emotional connection of the music."
   ]
  },
  {
   "cell_type": "markdown",
   "metadata": {},
   "source": [
    "&emsp;For the long time, there is a hot debate that some viewing AI as a revolutionary tool that can drive innovation, while others see it as a threat to the creative autonomy and livelihood of musicians.\n",
    "<br/>\n",
    "&emsp;From classical composers to DJs, the authors told how creators are navigating the evolving landscape of AI in music, help me understand not only the technical possibilities but also the personal and cultural impacts of these tools. They using consensual qualitative research methods and the Human-AI Creative Collaboration Model, to capture the dynamic roles AI can play in music creation. They described how AI can move along a spectrum from performing low level tasks like mastering or instrument selection to high level creative contributions.\n",
    "<br/>\n",
    "&emsp;The point impressed me the most is the authors don’t simply portray AI as a magical tool or a disruptive force, they treated AI as a nuanced collaborator that has the potential to transform the creative process for better or worse. I think it depends on how it’s designed and implemented. They introduce the AI usage in music——a very emotionally field, it must be related extends beyond music, leads us think about the role of AI in creative industries and the importance of human agency in art."
   ]
  }
 ],
 "metadata": {
  "kernelspec": {
   "display_name": "Python 3 (ipykernel)",
   "language": "python",
   "name": "python3"
  },
  "language_info": {
   "codemirror_mode": {
    "name": "ipython",
    "version": 3
   },
   "file_extension": ".py",
   "mimetype": "text/x-python",
   "name": "python",
   "nbconvert_exporter": "python",
   "pygments_lexer": "ipython3",
   "version": "3.11.5"
  }
 },
 "nbformat": 4,
 "nbformat_minor": 2
}
